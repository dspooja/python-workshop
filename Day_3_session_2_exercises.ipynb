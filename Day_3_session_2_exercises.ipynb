{
  "nbformat": 4,
  "nbformat_minor": 0,
  "metadata": {
    "colab": {
      "name": "Day 3 session 2 exercises.ipynb",
      "provenance": [],
      "authorship_tag": "ABX9TyOOyMCcLLdTkbGHMBaLVr1n",
      "include_colab_link": true
    },
    "kernelspec": {
      "name": "python3",
      "display_name": "Python 3"
    }
  },
  "cells": [
    {
      "cell_type": "markdown",
      "metadata": {
        "id": "view-in-github",
        "colab_type": "text"
      },
      "source": [
        "<a href=\"https://colab.research.google.com/github/dspooja/python-workshop/blob/master/Day_3_session_2_exercises.ipynb\" target=\"_parent\"><img src=\"https://colab.research.google.com/assets/colab-badge.svg\" alt=\"Open In Colab\"/></a>"
      ]
    },
    {
      "cell_type": "code",
      "metadata": {
        "id": "BWtEED9TDlB9",
        "colab_type": "code",
        "colab": {}
      },
      "source": [
        ""
      ],
      "execution_count": null,
      "outputs": []
    },
    {
      "cell_type": "markdown",
      "metadata": {
        "id": "iKSTvHypDxIm",
        "colab_type": "text"
      },
      "source": [
        "#Print Multiplication Table of a number which got through keyboard"
      ]
    },
    {
      "cell_type": "code",
      "metadata": {
        "id": "OteLA4IID3CV",
        "colab_type": "code",
        "colab": {
          "base_uri": "https://localhost:8080/",
          "height": 218
        },
        "outputId": "c9a9a0e1-7bae-46f1-bdc8-334d7ae28c17"
      },
      "source": [
        "num = int(input(\"Enter the number: \"))\n",
        "\n",
        "print(\"Multiplication Table of\", num)\n",
        "for i in range(1, 11):\n",
        "   print(num,\"X\",i,\"=\",num * i)"
      ],
      "execution_count": 1,
      "outputs": [
        {
          "output_type": "stream",
          "text": [
            "Enter the number: 12\n",
            "Multiplication Table of 12\n",
            "12 X 1 = 12\n",
            "12 X 2 = 24\n",
            "12 X 3 = 36\n",
            "12 X 4 = 48\n",
            "12 X 5 = 60\n",
            "12 X 6 = 72\n",
            "12 X 7 = 84\n",
            "12 X 8 = 96\n",
            "12 X 9 = 108\n",
            "12 X 10 = 120\n"
          ],
          "name": "stdout"
        }
      ]
    },
    {
      "cell_type": "markdown",
      "metadata": {
        "id": "vHnAYsd9EACY",
        "colab_type": "text"
      },
      "source": [
        "#find the Armstrong Numbers between 1 and 2000"
      ]
    },
    {
      "cell_type": "code",
      "metadata": {
        "id": "pTWmE6C-EFfX",
        "colab_type": "code",
        "colab": {
          "base_uri": "https://localhost:8080/",
          "height": 252
        },
        "outputId": "3b31c8a7-e882-4299-d373-0cdbbf8b1d82"
      },
      "source": [
        "lower = 1\n",
        "upper = 2000\n",
        "for num in range(lower, upper + 1):\n",
        "   order = len(str(num))\n",
        "   sum = 0\n",
        "   temp = num\n",
        "   while temp > 0:\n",
        "       digit = temp % 10\n",
        "       sum += digit ** order\n",
        "       temp //= 10\n",
        "   if num == sum:\n",
        "       print(num)"
      ],
      "execution_count": 2,
      "outputs": [
        {
          "output_type": "stream",
          "text": [
            "1\n",
            "2\n",
            "3\n",
            "4\n",
            "5\n",
            "6\n",
            "7\n",
            "8\n",
            "9\n",
            "153\n",
            "370\n",
            "371\n",
            "407\n",
            "1634\n"
          ],
          "name": "stdout"
        }
      ]
    },
    {
      "cell_type": "markdown",
      "metadata": {
        "id": "FISA15ZREK7E",
        "colab_type": "text"
      },
      "source": [
        "#Sort and print them as rollno wise and name wise both ascending and descending as well as alphabetical and dealphabetical orders"
      ]
    },
    {
      "cell_type": "code",
      "metadata": {
        "id": "fjMVC4C6EP7P",
        "colab_type": "code",
        "colab": {
          "base_uri": "https://localhost:8080/",
          "height": 185
        },
        "outputId": "03e9049b-817d-4e73-9b87-cff95252b817"
      },
      "source": [
        "l=[]\n",
        "def inp():\n",
        "  name = input('Name : ')\n",
        "  rolno = input(' Rol No : ')\n",
        "  return (name,rolno)  # returns tuples\n",
        "\n",
        "n = int(input('Number of Students : '))\n",
        "for x in range(n):\n",
        "  l.append(inp())\n",
        "\n",
        "print(f'Original : {l}')\n",
        "\n",
        "l.sort(key = lambda x:x[1])\n",
        "print(f'According to Rol No : Ascending :{l}')\n",
        "print(f'According to Rol No : Descending :{l[::-1]}')\n",
        "\n",
        "l.sort(key = lambda x:x[0])\n",
        "print(f'According to Name : Ascending :{l}')\n",
        "print(f'According to Name : Descending :{l[::-1]}')"
      ],
      "execution_count": 3,
      "outputs": [
        {
          "output_type": "stream",
          "text": [
            "Number of Students : 2\n",
            "Name : aa\n",
            " Rol No : 43\n",
            "Name : bb\n",
            " Rol No : 32\n",
            "Original : [('aa', '43'), ('bb', '32')]\n",
            "According to Rol No : Ascending :[('bb', '32'), ('aa', '43')]\n",
            "According to Rol No : Descending :[('aa', '43'), ('bb', '32')]\n",
            "According to Name : Ascending :[('aa', '43'), ('bb', '32')]\n",
            "According to Name : Descending :[('bb', '32'), ('aa', '43')]\n"
          ],
          "name": "stdout"
        }
      ]
    },
    {
      "cell_type": "markdown",
      "metadata": {
        "id": "tCCkdzwtEcv9",
        "colab_type": "text"
      },
      "source": [
        "#Python Program to Detect if Two Strings are Anagrams"
      ]
    },
    {
      "cell_type": "code",
      "metadata": {
        "id": "8USRmciVEiHH",
        "colab_type": "code",
        "colab": {
          "base_uri": "https://localhost:8080/",
          "height": 34
        },
        "outputId": "9dc57b4b-0e6e-49df-f6e8-4d01b4e02a57"
      },
      "source": [
        "def check(s1, s2): \n",
        "\tif(sorted(s1)== sorted(s2)): \n",
        "\t\tprint(\"The strings are anagrams.\") \n",
        "\telse: \n",
        "\t\tprint(\"The strings aren't anagrams.\")\t\t \n",
        "s1 =\"listen\"\n",
        "s2 =\"silent\"\n",
        "check(s1, s2)"
      ],
      "execution_count": 4,
      "outputs": [
        {
          "output_type": "stream",
          "text": [
            "The strings are anagrams.\n"
          ],
          "name": "stdout"
        }
      ]
    }
  ]
}