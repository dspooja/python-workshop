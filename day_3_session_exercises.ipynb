{
  "nbformat": 4,
  "nbformat_minor": 0,
  "metadata": {
    "colab": {
      "name": "day 3 session exercises.ipynb",
      "provenance": [],
      "authorship_tag": "ABX9TyNzJOfr9bbx0VlQo4hR2rSE",
      "include_colab_link": true
    },
    "kernelspec": {
      "name": "python3",
      "display_name": "Python 3"
    }
  },
  "cells": [
    {
      "cell_type": "markdown",
      "metadata": {
        "id": "view-in-github",
        "colab_type": "text"
      },
      "source": [
        "<a href=\"https://colab.research.google.com/github/dspooja/python-workshop/blob/master/day_3_session_exercises.ipynb\" target=\"_parent\"><img src=\"https://colab.research.google.com/assets/colab-badge.svg\" alt=\"Open In Colab\"/></a>"
      ]
    },
    {
      "cell_type": "code",
      "metadata": {
        "id": "BF7trtv0BTtp",
        "colab_type": "code",
        "colab": {}
      },
      "source": [
        ""
      ],
      "execution_count": null,
      "outputs": []
    },
    {
      "cell_type": "markdown",
      "metadata": {
        "id": "AW5UsF12Bfwl",
        "colab_type": "text"
      },
      "source": [
        "#find numbers between 100 and 400 (both included) which are divisable both by 5 or 7"
      ]
    },
    {
      "cell_type": "code",
      "metadata": {
        "id": "fLgzdmM2BoOP",
        "colab_type": "code",
        "colab": {
          "base_uri": "https://localhost:8080/",
          "height": 34
        },
        "outputId": "e1edac48-8ccc-4d2c-a4b9-14cd32e7c877"
      },
      "source": [
        "nl=[]\n",
        "for x in range(1500, 2701):\n",
        "    if (x%7==0) and (x%5==0):\n",
        "        nl.append(str(x))\n",
        "print (','.join(nl))"
      ],
      "execution_count": 1,
      "outputs": [
        {
          "output_type": "stream",
          "text": [
            "1505,1540,1575,1610,1645,1680,1715,1750,1785,1820,1855,1890,1925,1960,1995,2030,2065,2100,2135,2170,2205,2240,2275,2310,2345,2380,2415,2450,2485,2520,2555,2590,2625,2660,2695\n"
          ],
          "name": "stdout"
        }
      ]
    },
    {
      "cell_type": "markdown",
      "metadata": {
        "id": "FK0LKMVzB-XT",
        "colab_type": "text"
      },
      "source": [
        "#find prime numbers between 200 and 600"
      ]
    },
    {
      "cell_type": "code",
      "metadata": {
        "id": "E19T3m8YCDVY",
        "colab_type": "code",
        "colab": {
          "base_uri": "https://localhost:8080/",
          "height": 151
        },
        "outputId": "f99fc2a2-3848-436a-df4d-4305e931e94e"
      },
      "source": [
        "lower = int(input(\"Enter lower range: \"))  \n",
        "upper = int(input(\"Enter upper range: \"))  \n",
        "  \n",
        "for num in range(lower,upper + 1):  \n",
        "   if num > 1:  \n",
        "       for i in range(2,num):  \n",
        "           if (num % i) == 0:  \n",
        "               break  \n",
        "       else:  \n",
        "           print(num)"
      ],
      "execution_count": 2,
      "outputs": [
        {
          "output_type": "stream",
          "text": [
            "Enter lower range: 23\n",
            "Enter upper range: 45\n",
            "23\n",
            "29\n",
            "31\n",
            "37\n",
            "41\n",
            "43\n"
          ],
          "name": "stdout"
        }
      ]
    },
    {
      "cell_type": "markdown",
      "metadata": {
        "id": "61F8Co0XCJKD",
        "colab_type": "text"
      },
      "source": [
        "#find All Numbers which are Odd and Palindromes Between a Range of Numbers without using Recursion\n"
      ]
    },
    {
      "cell_type": "code",
      "metadata": {
        "id": "c-sSDNhGCUJQ",
        "colab_type": "code",
        "colab": {
          "base_uri": "https://localhost:8080/",
          "height": 67
        },
        "outputId": "2c604720-994c-4c1a-ab72-3f30456ff465"
      },
      "source": [
        "a=[]\n",
        "l=int(input(\"Enter lower limit: \"))\n",
        "u=int(input(\"Enter upper limit: \"))\n",
        "a=[x for x in range(l,u+1) if x%2!=0 and str(x)==str(x)[::-1]]\n",
        "print(\"The numbers are: \",a)"
      ],
      "execution_count": 3,
      "outputs": [
        {
          "output_type": "stream",
          "text": [
            "Enter lower limit: 2\n",
            "Enter upper limit: 3\n",
            "The numbers are:  [3]\n"
          ],
          "name": "stdout"
        }
      ]
    },
    {
      "cell_type": "markdown",
      "metadata": {
        "id": "FpqwQ3R9Cavo",
        "colab_type": "text"
      },
      "source": [
        "#read a number n and print the series “5+10+…..+n= sum upto n ” "
      ]
    },
    {
      "cell_type": "code",
      "metadata": {
        "id": "qVRyTU9ECfA2",
        "colab_type": "code",
        "colab": {
          "base_uri": "https://localhost:8080/",
          "height": 34
        },
        "outputId": "b3ad6b4b-fda7-481f-acf2-43b74eba63fd"
      },
      "source": [
        "def sumOfDigitsFrom1ToN(n) : \n",
        "\tresult = 0\n",
        "\tfor x in range(1, n+1) : \n",
        "\t\tresult = result + sumOfDigits(x) \n",
        "\treturn result \n",
        "def sumOfDigits(x) : \n",
        "\tsum = 0\n",
        "\twhile (x != 0) : \n",
        "\t\tsum = sum + x % 10\n",
        "\t\tx = x // 10\n",
        "\treturn sum \n",
        "n = 328\n",
        "print(\"Sum of digits in numbers from 1 to\", n, \"is\", sumOfDigitsFrom1ToN(n))"
      ],
      "execution_count": 4,
      "outputs": [
        {
          "output_type": "stream",
          "text": [
            "Sum of digits in numbers from 1 to 328 is 3241\n"
          ],
          "name": "stdout"
        }
      ]
    }
  ]
}