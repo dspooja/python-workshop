{
  "nbformat": 4,
  "nbformat_minor": 0,
  "metadata": {
    "colab": {
      "name": "Day 2 session 1 tuple examples.ipynb",
      "provenance": [],
      "authorship_tag": "ABX9TyPHd+oZrflegsBs5Coz/cz+",
      "include_colab_link": true
    },
    "kernelspec": {
      "name": "python3",
      "display_name": "Python 3"
    }
  },
  "cells": [
    {
      "cell_type": "markdown",
      "metadata": {
        "id": "view-in-github",
        "colab_type": "text"
      },
      "source": [
        "<a href=\"https://colab.research.google.com/github/dspooja/python-workshop/blob/master/Day_2_session_1_tuple_examples.ipynb\" target=\"_parent\"><img src=\"https://colab.research.google.com/assets/colab-badge.svg\" alt=\"Open In Colab\"/></a>"
      ]
    },
    {
      "cell_type": "code",
      "metadata": {
        "id": "xwohEe7MF8Zp",
        "colab_type": "code",
        "colab": {}
      },
      "source": [
        ""
      ],
      "execution_count": null,
      "outputs": []
    },
    {
      "cell_type": "markdown",
      "metadata": {
        "id": "mpg7Mc-sGw1S",
        "colab_type": "text"
      },
      "source": [
        "#Python Program to Create a List of Tuples with the First Element as the Number and Second Element as the Square of the Number "
      ]
    },
    {
      "cell_type": "code",
      "metadata": {
        "id": "v8RN0j55GzPg",
        "colab_type": "code",
        "colab": {
          "base_uri": "https://localhost:8080/",
          "height": 67
        },
        "outputId": "bcc30233-f096-49eb-cf38-51183c23ce65"
      },
      "source": [
        "l_range=int(input(\"Enter the lower range:\"))\n",
        "u_range=int(input(\"Enter the upper range:\"))\n",
        "a=[(x,x**2) for x in range(l_range,u_range+1)]\n",
        "print(a)"
      ],
      "execution_count": 1,
      "outputs": [
        {
          "output_type": "stream",
          "text": [
            "Enter the lower range:2\n",
            "Enter the upper range:4\n",
            "[(2, 4), (3, 9), (4, 16)]\n"
          ],
          "name": "stdout"
        }
      ]
    },
    {
      "cell_type": "markdown",
      "metadata": {
        "id": "sNX-FbZELPus",
        "colab_type": "text"
      },
      "source": [
        "#Write python program to have a list of words  to sort them from  shortest to longest using list of tuples"
      ]
    },
    {
      "cell_type": "code",
      "metadata": {
        "id": "AYR9mBUiK9cc",
        "colab_type": "code",
        "colab": {
          "base_uri": "https://localhost:8080/",
          "height": 50
        },
        "outputId": "15ef8a61-1171-45b3-d163-d6b69172eeb8"
      },
      "source": [
        "l = [(x,x**2) for x in range(int(input('Enter Number : ')))]\n",
        "print(l)"
      ],
      "execution_count": 6,
      "outputs": [
        {
          "output_type": "stream",
          "text": [
            "Enter Number : 12\n",
            "[(0, 0), (1, 1), (2, 4), (3, 9), (4, 16), (5, 25), (6, 36), (7, 49), (8, 64), (9, 81), (10, 100), (11, 121)]\n"
          ],
          "name": "stdout"
        }
      ]
    },
    {
      "cell_type": "markdown",
      "metadata": {
        "id": "kHsiBF9YLXte",
        "colab_type": "text"
      },
      "source": [
        "#Write python program to get a list of tuples of Rollno,Name for 5 students through keyboard and sort them Rollno wise ascending order"
      ]
    },
    {
      "cell_type": "code",
      "metadata": {
        "id": "GrNy6CBVLycz",
        "colab_type": "code",
        "colab": {
          "base_uri": "https://localhost:8080/",
          "height": 50
        },
        "outputId": "bd5986a9-45bf-4a96-f025-b7e1ef38e004"
      },
      "source": [
        "l = (x for x in input('Enter Names : ').split()) # tuple\n",
        "l = sorted(l,key = lambda x: len(x))\n",
        "print(l)"
      ],
      "execution_count": 10,
      "outputs": [
        {
          "output_type": "stream",
          "text": [
            "Enter Names : a b c d 3 87 43 \n",
            "['a', 'b', 'c', 'd', '3', '87', '43']\n"
          ],
          "name": "stdout"
        }
      ]
    },
    {
      "cell_type": "markdown",
      "metadata": {
        "id": "gO32dreUMSFO",
        "colab_type": "text"
      },
      "source": [
        "#Write python program to get a list of tuples of Rollno,Name for 5 students through keyboard and sort them by Name wise ascending order and descending order"
      ]
    },
    {
      "cell_type": "code",
      "metadata": {
        "id": "vNI1KxOfMvqp",
        "colab_type": "code",
        "colab": {
          "base_uri": "https://localhost:8080/",
          "height": 185
        },
        "outputId": "ebfd9d25-9656-44dc-c48e-f090f2394b62"
      },
      "source": [
        "l = []\n",
        "\n",
        "def inp():\n",
        "  name = input('Name : ')\n",
        "  rolno = input(' Rol No : ')\n",
        "  return (name,rolno)  # returns tuples\n",
        "\n",
        "n = int(input('Number of Students : '))\n",
        "for x in range(n):\n",
        "  l.append(inp())\n",
        "\n",
        "print(f'Original : {l}')\n",
        "\n",
        "l.sort(key = lambda x:x[1])\n",
        "print(f'According to Rol No : Ascending :{l}')\n",
        "print(f'According to Rol No : Descending :{l[::-1]}')\n",
        "\n",
        "l.sort(key = lambda x:x[0])\n",
        "print(f'According to Name : Ascending :{l}')\n",
        "print(f'According to Name : Descending :{l[::-1]}')"
      ],
      "execution_count": 11,
      "outputs": [
        {
          "output_type": "stream",
          "text": [
            "Number of Students : 2\n",
            "Name : aaa\n",
            " Rol No : 4al18cs062\n",
            "Name : bbb\n",
            " Rol No : 4al18cs056\n",
            "Original : [('aaa', '4al18cs062'), ('bbb', '4al18cs056')]\n",
            "According to Rol No : Ascending :[('bbb', '4al18cs056'), ('aaa', '4al18cs062')]\n",
            "According to Rol No : Descending :[('aaa', '4al18cs062'), ('bbb', '4al18cs056')]\n",
            "According to Name : Ascending :[('aaa', '4al18cs062'), ('bbb', '4al18cs056')]\n",
            "According to Name : Descending :[('bbb', '4al18cs056'), ('aaa', '4al18cs062')]\n"
          ],
          "name": "stdout"
        }
      ]
    }
  ]
}