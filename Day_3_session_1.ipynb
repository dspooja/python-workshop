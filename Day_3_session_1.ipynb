{
  "nbformat": 4,
  "nbformat_minor": 0,
  "metadata": {
    "colab": {
      "name": "Day 3 session 1.ipynb",
      "provenance": [],
      "authorship_tag": "ABX9TyNFotdfgrBTHc1PfE+9Jw5K",
      "include_colab_link": true
    },
    "kernelspec": {
      "name": "python3",
      "display_name": "Python 3"
    }
  },
  "cells": [
    {
      "cell_type": "markdown",
      "metadata": {
        "id": "view-in-github",
        "colab_type": "text"
      },
      "source": [
        "<a href=\"https://colab.research.google.com/github/dspooja/python-workshop/blob/master/Day_3_session_1.ipynb\" target=\"_parent\"><img src=\"https://colab.research.google.com/assets/colab-badge.svg\" alt=\"Open In Colab\"/></a>"
      ]
    },
    {
      "cell_type": "code",
      "metadata": {
        "id": "MeqG2i5pPNcb",
        "colab_type": "code",
        "colab": {}
      },
      "source": [
        ""
      ],
      "execution_count": null,
      "outputs": []
    },
    {
      "cell_type": "markdown",
      "metadata": {
        "id": "tLSno2M0Ptc-",
        "colab_type": "text"
      },
      "source": [
        "#Program for prime number -bad code"
      ]
    },
    {
      "cell_type": "code",
      "metadata": {
        "id": "nzp58MLaQPu4",
        "colab_type": "code",
        "colab": {
          "base_uri": "https://localhost:8080/",
          "height": 34
        },
        "outputId": "98dbf765-70b7-453e-86d0-c4bebbb332da"
      },
      "source": [
        "i=25\n",
        "for x in range(2, i//2+1):\n",
        "      if i%x==0:\n",
        "         print(\"The number {} is not prime\".format(i))\n",
        "         break\n",
        "if x ==i//2:\n",
        "   print (\"{} is a prime number\".format(i))\n"
      ],
      "execution_count": 1,
      "outputs": [
        {
          "output_type": "stream",
          "text": [
            "The number 25 is not prime\n"
          ],
          "name": "stdout"
        }
      ]
    },
    {
      "cell_type": "markdown",
      "metadata": {
        "id": "_-zw9NXSQaCW",
        "colab_type": "text"
      },
      "source": [
        "#Good code using for... else"
      ]
    },
    {
      "cell_type": "code",
      "metadata": {
        "id": "1j38t9A9RBo4",
        "colab_type": "code",
        "colab": {
          "base_uri": "https://localhost:8080/",
          "height": 34
        },
        "outputId": "161714c5-4c99-4568-c54a-fee21859f2e3"
      },
      "source": [
        "i=25\n",
        "for x in range(2, i//2+1):\n",
        "      if i%x==0:\n",
        "         print(\"The number {} is not prime\".format(i))\n",
        "         break\n",
        "else:\n",
        "    print (\"{} is a prime number\".format(i))"
      ],
      "execution_count": 2,
      "outputs": [
        {
          "output_type": "stream",
          "text": [
            "The number 25 is not prime\n"
          ],
          "name": "stdout"
        }
      ]
    },
    {
      "cell_type": "markdown",
      "metadata": {
        "id": "-3tJDc8NRIQP",
        "colab_type": "text"
      },
      "source": [
        "#Using Unpacking to Write Concise Code\n"
      ]
    },
    {
      "cell_type": "code",
      "metadata": {
        "id": "iO3O41koRMO1",
        "colab_type": "code",
        "colab": {
          "base_uri": "https://localhost:8080/",
          "height": 50
        },
        "outputId": "9589aa21-8b56-4d62-8086-29013468879c"
      },
      "source": [
        "a, b = 2, 'my-string'\n",
        "print(a)\n",
        "print(b)"
      ],
      "execution_count": 3,
      "outputs": [
        {
          "output_type": "stream",
          "text": [
            "2\n",
            "my-string\n"
          ],
          "name": "stdout"
        }
      ]
    },
    {
      "cell_type": "markdown",
      "metadata": {
        "id": "M9K6lck_RSUy",
        "colab_type": "text"
      },
      "source": [
        "#Bad unpacking"
      ]
    },
    {
      "cell_type": "code",
      "metadata": {
        "id": "cU3IFEnIRWLl",
        "colab_type": "code",
        "colab": {
          "base_uri": "https://localhost:8080/",
          "height": 34
        },
        "outputId": "30742509-d2a0-4f7b-dc30-36caa6080ee3"
      },
      "source": [
        "x = (1, 2, 4, 8, 16)\n",
        "a = x[0]\n",
        "b = x[1]\n",
        "c = x[2]\n",
        "d = x[3]\n",
        "e = x[4]\n",
        "print(a, b, c, d, e)"
      ],
      "execution_count": 4,
      "outputs": [
        {
          "output_type": "stream",
          "text": [
            "1 2 4 8 16\n"
          ],
          "name": "stdout"
        }
      ]
    },
    {
      "cell_type": "markdown",
      "metadata": {
        "id": "69uQHUT6Rahq",
        "colab_type": "text"
      },
      "source": [
        "#Excellent unpacking"
      ]
    },
    {
      "cell_type": "code",
      "metadata": {
        "id": "qWlTQevJRrW9",
        "colab_type": "code",
        "colab": {
          "base_uri": "https://localhost:8080/",
          "height": 34
        },
        "outputId": "9a085856-adf5-454b-d8dd-a58d2f915189"
      },
      "source": [
        "a,b,c,d,e=x\n",
        "print(a, b, c, d, e)"
      ],
      "execution_count": 5,
      "outputs": [
        {
          "output_type": "stream",
          "text": [
            "1 2 4 8 16\n"
          ],
          "name": "stdout"
        }
      ]
    },
    {
      "cell_type": "markdown",
      "metadata": {
        "id": "u5_wQ2drRwR4",
        "colab_type": "text"
      },
      "source": [
        "#unpacking some elements"
      ]
    },
    {
      "cell_type": "code",
      "metadata": {
        "id": "SKPLBmsVR0AW",
        "colab_type": "code",
        "colab": {
          "base_uri": "https://localhost:8080/",
          "height": 67
        },
        "outputId": "8a516292-8bab-43c4-b6d4-0b9af1b59059"
      },
      "source": [
        "a, *y, e = x\n",
        "print(a)\n",
        "print(y)\n",
        "print(e)"
      ],
      "execution_count": 6,
      "outputs": [
        {
          "output_type": "stream",
          "text": [
            "1\n",
            "[2, 4, 8]\n",
            "16\n"
          ],
          "name": "stdout"
        }
      ]
    },
    {
      "cell_type": "markdown",
      "metadata": {
        "id": "2GdVhEeLR3fN",
        "colab_type": "text"
      },
      "source": [
        "#Using Chaining to Write Concise Code"
      ]
    },
    {
      "cell_type": "code",
      "metadata": {
        "id": "dN5f7TwfR6v4",
        "colab_type": "code",
        "colab": {
          "base_uri": "https://localhost:8080/",
          "height": 34
        },
        "outputId": "434488e9-979e-4bcd-ef41-3a6f2d1ddb9f"
      },
      "source": [
        "x = 4\n",
        "print(x >= 2 and x <= 8)\n"
      ],
      "execution_count": 7,
      "outputs": [
        {
          "output_type": "stream",
          "text": [
            "True\n"
          ],
          "name": "stdout"
        }
      ]
    },
    {
      "cell_type": "markdown",
      "metadata": {
        "id": "LNqLTysdR_mh",
        "colab_type": "text"
      },
      "source": [
        "#Instead, you can write this in a more compact form, like mathematicians do:"
      ]
    },
    {
      "cell_type": "code",
      "metadata": {
        "id": "IkcOffD9SDz3",
        "colab_type": "code",
        "colab": {
          "base_uri": "https://localhost:8080/",
          "height": 50
        },
        "outputId": "93418d57-8a38-4f28-db8e-fb927df879e2"
      },
      "source": [
        "print(2 <= x <= 8)\n",
        "print(2 <= x <= 3)"
      ],
      "execution_count": 8,
      "outputs": [
        {
          "output_type": "stream",
          "text": [
            "True\n",
            "False\n"
          ],
          "name": "stdout"
        }
      ]
    },
    {
      "cell_type": "markdown",
      "metadata": {
        "id": "ygoSzL6XSIFZ",
        "colab_type": "text"
      },
      "source": [
        "#chained assignments"
      ]
    },
    {
      "cell_type": "code",
      "metadata": {
        "id": "K36bY_IRSK1g",
        "colab_type": "code",
        "colab": {
          "base_uri": "https://localhost:8080/",
          "height": 34
        },
        "outputId": "3f7d9135-db7a-402d-cc5c-b01334ed6295"
      },
      "source": [
        "x = y = z = 2\n",
        "x, y, z # when we use , it becomes tuple"
      ],
      "execution_count": 9,
      "outputs": [
        {
          "output_type": "execute_result",
          "data": {
            "text/plain": [
              "(2, 2, 2)"
            ]
          },
          "metadata": {
            "tags": []
          },
          "execution_count": 9
        }
      ]
    },
    {
      "cell_type": "markdown",
      "metadata": {
        "id": "gxowP0fkTMSW",
        "colab_type": "text"
      },
      "source": [
        "#Checking against None"
      ]
    },
    {
      "cell_type": "code",
      "metadata": {
        "id": "hQEP_oMHTSjq",
        "colab_type": "code",
        "colab": {
          "base_uri": "https://localhost:8080/",
          "height": 84
        },
        "outputId": "d682169c-56c1-4d0a-8dea-fd29373ad0e7"
      },
      "source": [
        "# normal way\n",
        "x, y = 2, None\n",
        "print(x == None)\n",
        "print(y == None)\n",
        "print(x != None)\n",
        "print(y != None)"
      ],
      "execution_count": 10,
      "outputs": [
        {
          "output_type": "stream",
          "text": [
            "False\n",
            "True\n",
            "True\n",
            "False\n"
          ],
          "name": "stdout"
        }
      ]
    },
    {
      "cell_type": "markdown",
      "metadata": {
        "id": "qLJpGAP1TWM6",
        "colab_type": "text"
      },
      "source": [
        "#In pythonic way"
      ]
    },
    {
      "cell_type": "code",
      "metadata": {
        "id": "-UqqV8gATbQs",
        "colab_type": "code",
        "colab": {
          "base_uri": "https://localhost:8080/",
          "height": 84
        },
        "outputId": "0aecdc89-e5af-427e-e5c2-98a3f479dcf7"
      },
      "source": [
        "x is None\n",
        "print(x is None)\n",
        "print(y is None)\n",
        "print(x is not None)\n",
        "print(y is not None)"
      ],
      "execution_count": 11,
      "outputs": [
        {
          "output_type": "stream",
          "text": [
            "False\n",
            "True\n",
            "True\n",
            "False\n"
          ],
          "name": "stdout"
        }
      ]
    },
    {
      "cell_type": "markdown",
      "metadata": {
        "id": "UcKB8xXiTfKB",
        "colab_type": "text"
      },
      "source": [
        "#Iterating over Sequences"
      ]
    },
    {
      "cell_type": "code",
      "metadata": {
        "id": "9eFXrqYtTiRj",
        "colab_type": "code",
        "colab": {
          "base_uri": "https://localhost:8080/",
          "height": 101
        },
        "outputId": "5c7d8088-2824-4696-9e59-b1045f36402e"
      },
      "source": [
        "x = [1, 2, 4, 8, 16]\n",
        "for i in range(len(x)):\n",
        "  print(x[i])"
      ],
      "execution_count": 12,
      "outputs": [
        {
          "output_type": "stream",
          "text": [
            "1\n",
            "2\n",
            "4\n",
            "8\n",
            "16\n"
          ],
          "name": "stdout"
        }
      ]
    },
    {
      "cell_type": "markdown",
      "metadata": {
        "id": "mBY3zf09Tnvt",
        "colab_type": "text"
      },
      "source": [
        "#But instead we can do like this in elegant way"
      ]
    },
    {
      "cell_type": "code",
      "metadata": {
        "id": "DCMG3c8aTr_N",
        "colab_type": "code",
        "colab": {
          "base_uri": "https://localhost:8080/",
          "height": 101
        },
        "outputId": "251441a8-3acd-47d7-daf5-d423e2bb5568"
      },
      "source": [
        "for item in x:\n",
        "  print(item)"
      ],
      "execution_count": 13,
      "outputs": [
        {
          "output_type": "stream",
          "text": [
            "1\n",
            "2\n",
            "4\n",
            "8\n",
            "16\n"
          ],
          "name": "stdout"
        }
      ]
    },
    {
      "cell_type": "markdown",
      "metadata": {
        "id": "JtdMp3qnTvXT",
        "colab_type": "text"
      },
      "source": [
        "#to iterate in the reversed order"
      ]
    },
    {
      "cell_type": "code",
      "metadata": {
        "id": "kyfjgtjXTyTq",
        "colab_type": "code",
        "colab": {
          "base_uri": "https://localhost:8080/",
          "height": 101
        },
        "outputId": "130270c0-2ae0-4485-ae11-a7dba43e7d4d"
      },
      "source": [
        "for i in range(len(x)-1, -1, -1):\n",
        "  print(x[i])"
      ],
      "execution_count": 14,
      "outputs": [
        {
          "output_type": "stream",
          "text": [
            "16\n",
            "8\n",
            "4\n",
            "2\n",
            "1\n"
          ],
          "name": "stdout"
        }
      ]
    },
    {
      "cell_type": "markdown",
      "metadata": {
        "id": "8vNfDGktUDxz",
        "colab_type": "text"
      },
      "source": [
        "#The Pythonic way is to use reversed to get an iterator that yields the items of a\n",
        "sequence in the reversed order:\n"
      ]
    },
    {
      "cell_type": "code",
      "metadata": {
        "id": "HxNOHY1ZUNMH",
        "colab_type": "code",
        "colab": {
          "base_uri": "https://localhost:8080/",
          "height": 101
        },
        "outputId": "2985a82f-6a8a-44cb-892b-15bf9a21429a"
      },
      "source": [
        "for item in reversed(x):\n",
        "  print(item)"
      ],
      "execution_count": 16,
      "outputs": [
        {
          "output_type": "stream",
          "text": [
            "16\n",
            "8\n",
            "4\n",
            "2\n",
            "1\n"
          ],
          "name": "stdout"
        }
      ]
    },
    {
      "cell_type": "markdown",
      "metadata": {
        "id": "DycT_5MIUYZ0",
        "colab_type": "text"
      },
      "source": [
        "#Sometimes you need both the items from a sequence and the corresponding indices:"
      ]
    },
    {
      "cell_type": "code",
      "metadata": {
        "id": "ASttaUbkUb7k",
        "colab_type": "code",
        "colab": {
          "base_uri": "https://localhost:8080/",
          "height": 101
        },
        "outputId": "e9ae0df3-68d6-4ca0-d0c2-2c3630c372ad"
      },
      "source": [
        "for i in range(len(x)):\n",
        "  print(i, x[i])"
      ],
      "execution_count": 17,
      "outputs": [
        {
          "output_type": "stream",
          "text": [
            "0 1\n",
            "1 2\n",
            "2 4\n",
            "3 8\n",
            "4 16\n"
          ],
          "name": "stdout"
        }
      ]
    },
    {
      "cell_type": "markdown",
      "metadata": {
        "id": "CKsdfCy0Uhrd",
        "colab_type": "text"
      },
      "source": [
        "#It’s better to use enumerate to get another iterator that yields the tuples with the indices\n",
        "and items:\n",
        "\n"
      ]
    },
    {
      "cell_type": "code",
      "metadata": {
        "id": "VixuNyJDUp8u",
        "colab_type": "code",
        "colab": {
          "base_uri": "https://localhost:8080/",
          "height": 101
        },
        "outputId": "bca9120b-eb63-4126-9298-d7e2706c368c"
      },
      "source": [
        "for i, item in enumerate(x):\n",
        "  print(i, item)\n"
      ],
      "execution_count": 18,
      "outputs": [
        {
          "output_type": "stream",
          "text": [
            "0 1\n",
            "1 2\n",
            "2 4\n",
            "3 8\n",
            "4 16\n"
          ],
          "name": "stdout"
        }
      ]
    },
    {
      "cell_type": "markdown",
      "metadata": {
        "id": "oviiiUOnVOXe",
        "colab_type": "text"
      },
      "source": [
        "#what if you want to iterate over two or more sequences? Of course, you can use the\n",
        "range again:\n"
      ]
    },
    {
      "cell_type": "code",
      "metadata": {
        "id": "wgriIqvyVRvT",
        "colab_type": "code",
        "colab": {
          "base_uri": "https://localhost:8080/",
          "height": 101
        },
        "outputId": "782123a1-c2f3-47f6-b490-1f0eb4b87de1"
      },
      "source": [
        "y = 'abcde'\n",
        "for i in range(len(x)):\n",
        "  print(x[i], y[i])"
      ],
      "execution_count": 19,
      "outputs": [
        {
          "output_type": "stream",
          "text": [
            "1 a\n",
            "2 b\n",
            "4 c\n",
            "8 d\n",
            "16 e\n"
          ],
          "name": "stdout"
        }
      ]
    },
    {
      "cell_type": "markdown",
      "metadata": {
        "id": "IOszpR-KVXik",
        "colab_type": "text"
      },
      "source": [
        "#In this case, Python also offers a better solution. You can apply zip and get tuples of the\n",
        "corresponding items:"
      ]
    },
    {
      "cell_type": "code",
      "metadata": {
        "id": "42oaFQusVcqC",
        "colab_type": "code",
        "colab": {
          "base_uri": "https://localhost:8080/",
          "height": 101
        },
        "outputId": "30cd160b-ec3d-410f-e553-14f9c9faa890"
      },
      "source": [
        "for item in zip(x, y):\n",
        "  print(item)"
      ],
      "execution_count": 20,
      "outputs": [
        {
          "output_type": "stream",
          "text": [
            "(1, 'a')\n",
            "(2, 'b')\n",
            "(4, 'c')\n",
            "(8, 'd')\n",
            "(16, 'e')\n"
          ],
          "name": "stdout"
        }
      ]
    },
    {
      "cell_type": "markdown",
      "metadata": {
        "id": "XxfGQLgAVhFi",
        "colab_type": "text"
      },
      "source": [
        "#You can combine it with unpacking:\n"
      ]
    },
    {
      "cell_type": "code",
      "metadata": {
        "id": "JrI1ebsyVqF1",
        "colab_type": "code",
        "colab": {
          "base_uri": "https://localhost:8080/",
          "height": 101
        },
        "outputId": "eed1d9d3-7b70-4323-d112-e46c70200c39"
      },
      "source": [
        "for x_item, y_item in zip(x, y):\n",
        "  print(x_item, y_item)"
      ],
      "execution_count": 21,
      "outputs": [
        {
          "output_type": "stream",
          "text": [
            "1 a\n",
            "2 b\n",
            "4 c\n",
            "8 d\n",
            "16 e\n"
          ],
          "name": "stdout"
        }
      ]
    },
    {
      "cell_type": "markdown",
      "metadata": {
        "id": "5MpVmuvqVtrJ",
        "colab_type": "text"
      },
      "source": [
        "#Dictionary can be iterated in these two ways"
      ]
    },
    {
      "cell_type": "code",
      "metadata": {
        "id": "ZmkrNPmZVwso",
        "colab_type": "code",
        "colab": {
          "base_uri": "https://localhost:8080/",
          "height": 50
        },
        "outputId": "19dc8c79-61a9-47d0-aaf2-8e3a827611ac"
      },
      "source": [
        "z = {'a': 0, 'b': 1}\n",
        "for k in z:\n",
        "  print(k, z[k])"
      ],
      "execution_count": 22,
      "outputs": [
        {
          "output_type": "stream",
          "text": [
            "a 0\n",
            "b 1\n"
          ],
          "name": "stdout"
        }
      ]
    },
    {
      "cell_type": "markdown",
      "metadata": {
        "id": "51gKUMezV13_",
        "colab_type": "text"
      },
      "source": [
        "#Comparing to Zero"
      ]
    },
    {
      "cell_type": "code",
      "metadata": {
        "id": "Jc8NfRExV6RM",
        "colab_type": "code",
        "colab": {
          "base_uri": "https://localhost:8080/",
          "height": 84
        },
        "outputId": "2c58ae05-6af4-4326-a809-8beb93c1ee6b"
      },
      "source": [
        "#To print only non zero values from tuple x\n",
        "x = (1, 2, 0, 3, 0, 4)\n",
        "for item in x:\n",
        "    if item != 0:\n",
        "      print(item)\n"
      ],
      "execution_count": 23,
      "outputs": [
        {
          "output_type": "stream",
          "text": [
            "1\n",
            "2\n",
            "3\n",
            "4\n"
          ],
          "name": "stdout"
        }
      ]
    },
    {
      "cell_type": "markdown",
      "metadata": {
        "id": "7O7GcrwDWAMi",
        "colab_type": "text"
      },
      "source": [
        "#Avoiding Mutable Optional Arguments"
      ]
    },
    {
      "cell_type": "code",
      "metadata": {
        "id": "lCuczoHRWEaz",
        "colab_type": "code",
        "colab": {
          "base_uri": "https://localhost:8080/",
          "height": 34
        },
        "outputId": "d6001743-4480-4c1b-8daf-e73f605eb837"
      },
      "source": [
        "def func(value, seq=[]):\n",
        "  seq.append(value)\n",
        "  return seq\n",
        "print(func(value=2))"
      ],
      "execution_count": 24,
      "outputs": [
        {
          "output_type": "stream",
          "text": [
            "[2]\n"
          ],
          "name": "stdout"
        }
      ]
    },
    {
      "cell_type": "markdown",
      "metadata": {
        "id": "MuJ3driZWLke",
        "colab_type": "text"
      },
      "source": [
        "#keep away from that with some additional logic"
      ]
    },
    {
      "cell_type": "code",
      "metadata": {
        "id": "tFjPcbiaWR7b",
        "colab_type": "code",
        "colab": {
          "base_uri": "https://localhost:8080/",
          "height": 34
        },
        "outputId": "64e4f72d-69aa-49dd-8774-03ed5b73925d"
      },
      "source": [
        "def func(value, seq=None):\n",
        "  if seq is None:\n",
        "    seq = []\n",
        "    seq.append(value)\n",
        "    return seq\n",
        "print(func(value=6))\n"
      ],
      "execution_count": 25,
      "outputs": [
        {
          "output_type": "stream",
          "text": [
            "[6]\n"
          ],
          "name": "stdout"
        }
      ]
    }
  ]
}